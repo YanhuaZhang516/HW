{
 "cells": [
  {
   "cell_type": "code",
   "execution_count": 16,
   "metadata": {},
   "outputs": [],
   "source": [
    "import pandas as pd\n",
    "import matplotlib.pyplot as plt\n",
    "import numpy as np\n",
    "import sklearn\n"
   ]
  },
  {
   "cell_type": "code",
   "execution_count": 129,
   "metadata": {},
   "outputs": [],
   "source": [
    "names=['sepal-length','sepal-width','petal-length','petal-width','class']\n",
    "Data= pd.read_csv('/home/yanhua/hw3/hw3_dataset/iris.txt',names=names)\n",
    "#f=open('/home/yanhua/hw3/hw3_dataset/iris.txt', 'r').readlines()\n",
    "#dataset = list(f)\n",
    "#print (dataset)\n",
    "ir1=Data.iloc[:,0].values #  sepal-length\n",
    "ir2=Data.iloc[:,1].values #  sepal-width\n",
    "ir3=Data.iloc[:,2].values #  petal-length  \n",
    "ir4=Data.iloc[:,3].values #  petal-width\n",
    "sort=Data.iloc[:,4].values # Classsig\n",
    "X=Data.iloc[:,[0,1,2,3]].values"
   ]
  },
  {
   "cell_type": "code",
   "execution_count": 130,
   "metadata": {
    "scrolled": true
   },
   "outputs": [],
   "source": [
    "U=np.mean(X,axis=0)\n",
    "x=X-U\n",
    "sigma=np.mean(np.multiply(x,x),axis=0)\n",
    "x=x/(sigma**0.5)"
   ]
  },
  {
   "cell_type": "code",
   "execution_count": 131,
   "metadata": {},
   "outputs": [],
   "source": [
    "C=1/150*np.dot(x.T,x)\n",
    "d=np.cov(X.T)"
   ]
  },
  {
   "cell_type": "code",
   "execution_count": 132,
   "metadata": {},
   "outputs": [],
   "source": [
    "evalues,evectors=np.linalg.eig(C)"
   ]
  },
  {
   "cell_type": "code",
   "execution_count": 133,
   "metadata": {},
   "outputs": [],
   "source": [
    "sorted_indices=np.argsort(-evalues)\n",
    "sorted_evectors=evectors[:,sorted_indices]"
   ]
  },
  {
   "cell_type": "code",
   "execution_count": 134,
   "metadata": {},
   "outputs": [
    {
     "name": "stdout",
     "output_type": "stream",
     "text": [
      "(150, 4)\n",
      "(4, 4)\n"
     ]
    }
   ],
   "source": [
    "X_v=X-U\n",
    "std_x=np.std(X_v)\n",
    "X_v=X_v/std_x\n",
    "print (X_v.shape)\n",
    "print (sorted_evectors.shape)"
   ]
  },
  {
   "cell_type": "code",
   "execution_count": 139,
   "metadata": {},
   "outputs": [],
   "source": [
    "from sklearn.metrics import mean_squared_error as mse\n",
    "#component=n\n",
    "def nrms(n):\n",
    "    eigVec =sorted_evectors[:,:n]\n",
    "    x_proj=np.dot(X_v,eigVec)\n",
    "\n",
    "    x_rec=np.dot(x_proj,eigVec.T)/std_x\n",
    "\n",
    "    x_rec=x_rec+np.mean(X,axis=0)\n",
    "\n",
    "    t=np.max(X,axis=0)-np.min(X,axis=0)\n",
    "    y=X-x_rec\n",
    "    d_err=np.sqrt(np.mean(np.power(y,2),axis=0))/t\n",
    "\n",
    "    nrms=np.mean(d_err)\n",
    "    nmse=mse(X,x_rec)\n",
    "    print (nrms)\n"
   ]
  }
 ],
 "metadata": {
  "kernelspec": {
   "display_name": "Python 3",
   "language": "python",
   "name": "python3"
  },
  "language_info": {
   "codemirror_mode": {
    "name": "ipython",
    "version": 3
   },
   "file_extension": ".py",
   "mimetype": "text/x-python",
   "name": "python",
   "nbconvert_exporter": "python",
   "pygments_lexer": "ipython3",
   "version": "3.6.5"
  }
 },
 "nbformat": 4,
 "nbformat_minor": 2
}
